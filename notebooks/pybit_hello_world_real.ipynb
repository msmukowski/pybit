{
 "cells": [
  {
   "cell_type": "markdown",
   "metadata": {},
   "source": [
    "# PyBit Hello World - Basic Usage Example"
   ]
  },
  {
   "cell_type": "code",
   "execution_count": 16,
   "metadata": {},
   "outputs": [],
   "source": [
    "import sys\n",
    "from pathlib import Path\n",
    "from pybit.unified_trading import HTTP\n",
    "from datetime import datetime\n",
    "\n",
    "root_path = Path().absolute().parent\n",
    "sys.path.append(str(root_path))"
   ]
  },
  {
   "cell_type": "markdown",
   "metadata": {},
   "source": [
    "### 1. Basic Connection\n",
    "#### Initialize the session"
   ]
  },
  {
   "cell_type": "code",
   "execution_count": 4,
   "metadata": {},
   "outputs": [],
   "source": [
    "from utils.secrets_manager import SecretsManager\n",
    "\n",
    "api_secrets = SecretsManager(config_path=Path().home() / \".secrets/pybit/secrets.yml\")\n",
    "api_key = api_secrets.get_secret(\"bybit.api_key\")\n",
    "api_secret = api_secrets.get_secret(\"bybit.api_secret\")\n",
    "\n",
    "session = HTTP(\n",
    "    api_key=api_key,\n",
    "    api_secret=api_secret\n",
    ")"
   ]
  },
  {
   "cell_type": "markdown",
   "metadata": {},
   "source": [
    "#### 2. Get Server Time"
   ]
  },
  {
   "cell_type": "code",
   "execution_count": 7,
   "metadata": {},
   "outputs": [
    {
     "data": {
      "text/plain": [
       "datetime.datetime(2025, 3, 2, 23, 57, 24, 718709)"
      ]
     },
     "execution_count": 7,
     "metadata": {},
     "output_type": "execute_result"
    }
   ],
   "source": [
    "server_time = session.get_server_time()\n",
    "datetime.fromtimestamp(int(server_time[\"result\"][\"timeNano\"]) / 1e9)"
   ]
  },
  {
   "cell_type": "markdown",
   "metadata": {},
   "source": [
    "### 3. List current positions on BTCUSDT pair"
   ]
  },
  {
   "cell_type": "code",
   "execution_count": 9,
   "metadata": {},
   "outputs": [],
   "source": [
    "pair_symbol = \"BTCUSDT\"\n",
    "category = \"linear\"\n",
    "\n",
    "positions = session.get_positions(\n",
    "    category=category,\n",
    "    symbol=pair_symbol\n",
    ")"
   ]
  },
  {
   "cell_type": "code",
   "execution_count": 15,
   "metadata": {},
   "outputs": [
    {
     "name": "stdout",
     "output_type": "stream",
     "text": [
      "Symbol: BTCUSDT\n",
      "Average price: 93754.4\n",
      "Liquidation price: 127061.20087909\n",
      "Market price: 94393.41\n",
      "\n",
      "Symbol: BTCUSDT\n",
      "Average price: 0\n",
      "Liquidation price: \n",
      "Market price: 94393.41\n",
      "\n"
     ]
    }
   ],
   "source": [
    "for pos in positions[\"result\"][\"list\"]:\n",
    "    print(f\"Symbol: {pos['symbol']}\")\n",
    "    print(f\"Average price: {pos['avgPrice']}\")\n",
    "    print(f\"Liquidation price: {pos['liqPrice']}\")\n",
    "    print(f\"Market price: {pos['markPrice']}\\n\")"
   ]
  }
 ],
 "metadata": {
  "kernelspec": {
   "display_name": "pybit",
   "language": "python",
   "name": "python3"
  },
  "language_info": {
   "codemirror_mode": {
    "name": "ipython",
    "version": 3
   },
   "file_extension": ".py",
   "mimetype": "text/x-python",
   "name": "python",
   "nbconvert_exporter": "python",
   "pygments_lexer": "ipython3",
   "version": "3.10.16"
  }
 },
 "nbformat": 4,
 "nbformat_minor": 2
}
