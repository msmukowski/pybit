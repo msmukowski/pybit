{
 "cells": [
  {
   "cell_type": "markdown",
   "metadata": {},
   "source": [
    "##### Append project root to PYTHONPATH"
   ]
  },
  {
   "cell_type": "code",
   "execution_count": 1,
   "metadata": {},
   "outputs": [],
   "source": [
    "import sys\n",
    "from pathlib import Path\n",
    "\n",
    "root_path = Path().absolute().parent\n",
    "sys.path.append(str(root_path))"
   ]
  },
  {
   "cell_type": "markdown",
   "metadata": {},
   "source": [
    "##### Setup secrets manager and encrypt fields (TEST)"
   ]
  },
  {
   "cell_type": "code",
   "execution_count": 15,
   "metadata": {},
   "outputs": [],
   "source": [
    "from utils.secrets_manager import SecretsManager\n",
    "\n",
    "key_path = SecretsManager.setup_key_storage()\n",
    "config_path = SecretsManager.setup_config_directory()\n",
    "\n",
    "secrets = SecretsManager()\n",
    "\n",
    "config = secrets.load_config()  ## Uses a default config location\n",
    "\n",
    "sensitive_fields = ['bybit.api_key', 'bybit.api_secret']\n",
    "\n",
    "secrets.save_config(config, encrypt_fields=sensitive_fields)"
   ]
  },
  {
   "cell_type": "markdown",
   "metadata": {},
   "source": [
    "##### Validate encryption (TEST)"
   ]
  },
  {
   "cell_type": "code",
   "execution_count": 16,
   "metadata": {},
   "outputs": [
    {
     "name": "stdout",
     "output_type": "stream",
     "text": [
      "True\n",
      "True\n"
     ]
    }
   ],
   "source": [
    "encrypted_config = secrets.load_config()\n",
    "for sensitive_field in sensitive_fields:\n",
    "    print(len(secrets.get_secret(sensitive_field)) > 1)"
   ]
  },
  {
   "cell_type": "markdown",
   "metadata": {},
   "source": [
    "##### Setup secrets manager and encrypt fields (REAL SECRETS)"
   ]
  },
  {
   "cell_type": "code",
   "execution_count": 18,
   "metadata": {},
   "outputs": [],
   "source": [
    "from utils.secrets_manager import SecretsManager\n",
    "\n",
    "key_path = SecretsManager.setup_key_storage()\n",
    "config_path = SecretsManager.setup_config_directory(config_path=Path().home() / '.secrets' / 'pybit' / 'secrets.yml')\n",
    "\n",
    "secrets = SecretsManager(config_path=Path(config_path))\n",
    "\n",
    "config = secrets.load_config()  ## Uses a default config location\n",
    "\n",
    "sensitive_fields = ['bybit.api_key', 'bybit.api_secret']\n",
    "\n",
    "secrets.save_config(config, encrypt_fields=sensitive_fields)"
   ]
  }
 ],
 "metadata": {
  "kernelspec": {
   "display_name": "pybit",
   "language": "python",
   "name": "python3"
  },
  "language_info": {
   "codemirror_mode": {
    "name": "ipython",
    "version": 3
   },
   "file_extension": ".py",
   "mimetype": "text/x-python",
   "name": "python",
   "nbconvert_exporter": "python",
   "pygments_lexer": "ipython3",
   "version": "3.10.16"
  }
 },
 "nbformat": 4,
 "nbformat_minor": 2
}
