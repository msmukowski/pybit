{
 "cells": [
  {
   "cell_type": "markdown",
   "metadata": {},
   "source": [
    "# PyBit Hello World - Basic Usage Example"
   ]
  },
  {
   "cell_type": "code",
   "execution_count": 1,
   "metadata": {},
   "outputs": [],
   "source": [
    "from pybit.unified_trading import HTTP\n",
    "import pandas as pd\n",
    "from datetime import datetime"
   ]
  },
  {
   "cell_type": "markdown",
   "metadata": {},
   "source": [
    "### 1. Basic Connection - Public Endpoints (No API Keys Required)\n",
    "#### Initialize the session (testnet for practice)"
   ]
  },
  {
   "cell_type": "code",
   "execution_count": 2,
   "metadata": {},
   "outputs": [],
   "source": [
    "session_public = HTTP(testnet=True)"
   ]
  },
  {
   "cell_type": "markdown",
   "metadata": {},
   "source": [
    "#### 2. Get Server Time"
   ]
  },
  {
   "cell_type": "code",
   "execution_count": 3,
   "metadata": {},
   "outputs": [
    {
     "name": "stdout",
     "output_type": "stream",
     "text": [
      "{'retCode': 0, 'retMsg': 'OK', 'result': {'timeSecond': '1740611335', 'timeNano': '1740611335166536065'}, 'retExtInfo': {}, 'time': 1740611335166}\n",
      "Readable time: 2025-02-26 23:08:55.166536\n"
     ]
    }
   ],
   "source": [
    "server_time = session_public.get_server_time()\n",
    "print(server_time)\n",
    "timestamp = server_time['result']['timeNano']\n",
    "readable_time = datetime.fromtimestamp(int(timestamp) / 1e9)\n",
    "print(f\"Readable time: {readable_time}\")"
   ]
  },
  {
   "cell_type": "markdown",
   "metadata": {},
   "source": [
    "#### 3. Get Market Data - Fetch available symbols"
   ]
  },
  {
   "cell_type": "code",
   "execution_count": 4,
   "metadata": {},
   "outputs": [
    {
     "name": "stdout",
     "output_type": "stream",
     "text": [
      "\n",
      "Available Spot Symbols: 325 pairs\n",
      "  1. BTCUSDT\n",
      "  2. ETHUSDT\n",
      "  3. EOSBTC\n",
      "  4. EOSUSDT\n",
      "  5. XRPUSDT\n"
     ]
    }
   ],
   "source": [
    "symbols = session_public.get_instruments_info(category=\"spot\")\n",
    "print(f\"\\nAvailable Spot Symbols: {len(symbols['result']['list'])} pairs\")\n",
    "\n",
    "for i, symbol in enumerate(symbols['result']['list'][:5]):\n",
    "    print(f\"  {i+1}. {symbol['symbol']}\")"
   ]
  },
  {
   "cell_type": "markdown",
   "metadata": {},
   "source": [
    "#### 4. Get Recent Klines/Candlesticks for BTC/USDT"
   ]
  },
  {
   "cell_type": "code",
   "execution_count": 5,
   "metadata": {},
   "outputs": [
    {
     "name": "stdout",
     "output_type": "stream",
     "text": [
      "\n",
      "Fetching BTCUSDT Klines (1-hour timeframe)...\n",
      "\n",
      "Recent BTCUSDT Price Data:\n",
      "            timestamp      open      high       low     close\n",
      "4 2025-02-26 19:00:00  88724.82  92868.42  75396.42  75624.38\n",
      "3 2025-02-26 20:00:00  75624.38  82647.50  74008.96  76016.92\n",
      "2 2025-02-26 21:00:00  76016.92  76633.31  75158.98  76299.68\n",
      "1 2025-02-26 22:00:00  76299.68  77000.00  75759.44  76159.91\n",
      "0 2025-02-26 23:00:00  76159.91  76488.42  76016.92  76299.68\n"
     ]
    }
   ],
   "source": [
    "print(\"\\nFetching BTCUSDT Klines (1-hour timeframe)...\")\n",
    "klines = session_public.get_kline(\n",
    "    category=\"spot\",\n",
    "    symbol=\"BTCUSDT\",\n",
    "    interval=\"60\",\n",
    "    limit=5\n",
    ")\n",
    "\n",
    "if 'result' in klines and 'list' in klines['result']:\n",
    "    df = pd.DataFrame(\n",
    "        klines['result']['list'],\n",
    "        columns=['timestamp', 'open', 'high', 'low', 'close', 'volume', 'turnover']\n",
    "    )\n",
    "    \n",
    "    df['timestamp'] = pd.to_datetime(df['timestamp'].astype(float), unit='ms')\n",
    "    \n",
    "    for col in ['open', 'high', 'low', 'close', 'volume', 'turnover']:\n",
    "        df[col] = df[col].astype(float)\n",
    "    \n",
    "    print(\"\\nRecent BTCUSDT Price Data:\")\n",
    "    print(df[['timestamp', 'open', 'high', 'low', 'close']].sort_values('timestamp'))\n"
   ]
  },
  {
   "cell_type": "markdown",
   "metadata": {},
   "source": [
    "#### 5. Get Order Book"
   ]
  },
  {
   "cell_type": "code",
   "execution_count": 6,
   "metadata": {},
   "outputs": [
    {
     "name": "stdout",
     "output_type": "stream",
     "text": [
      "\n",
      "Fetching BTCUSDT Order Book...\n",
      "\n",
      "Top 5 Asks (Sell Orders):\n",
      "  Price: $76299.68, Size: 0.001913 BTC\n",
      "  Price: $76302.90, Size: 0.001317 BTC\n",
      "  Price: $76399.98, Size: 0.002258 BTC\n",
      "  Price: $76434.74, Size: 0.009667 BTC\n",
      "  Price: $76440.87, Size: 0.001382 BTC\n",
      "\n",
      "Top 5 Bids (Buy Orders):\n",
      "  Price: $76051.62, Size: 0.006311 BTC\n",
      "  Price: $76029.56, Size: 0.009674 BTC\n",
      "  Price: $76016.92, Size: 0.009148 BTC\n",
      "  Price: $75935.44, Size: 0.000577 BTC\n",
      "  Price: $75933.32, Size: 0.002260 BTC\n"
     ]
    }
   ],
   "source": [
    "print(\"\\nFetching BTCUSDT Order Book...\")\n",
    "orderbook = session_public.get_orderbook(\n",
    "    category=\"spot\",\n",
    "    symbol=\"BTCUSDT\",\n",
    "    limit=5\n",
    ")\n",
    "\n",
    "if 'result' in orderbook:\n",
    "    print(\"\\nTop 5 Asks (Sell Orders):\")\n",
    "    for ask in orderbook['result']['a']:\n",
    "        print(f\"  Price: ${float(ask[0]):.2f}, Size: {float(ask[1]):.6f} BTC\")\n",
    "    \n",
    "    print(\"\\nTop 5 Bids (Buy Orders):\")\n",
    "    for bid in orderbook['result']['b']:\n",
    "        print(f\"  Price: ${float(bid[0]):.2f}, Size: {float(bid[1]):.6f} BTC\")\n"
   ]
  },
  {
   "cell_type": "markdown",
   "metadata": {},
   "source": [
    "#### 6. Get Tickers (24h price statistics)"
   ]
  },
  {
   "cell_type": "code",
   "execution_count": 7,
   "metadata": {},
   "outputs": [
    {
     "name": "stdout",
     "output_type": "stream",
     "text": [
      "\n",
      "Fetching Tickers for Popular Coins...\n",
      "\n",
      "24h Price Statistics:\n",
      "\n",
      "BTCUSDT:\n",
      "  Last Price: $76299.68\n",
      "  24h High: $97676.44\n",
      "  24h Low: $74008.96\n",
      "  24h Volume: 33714.56 USDT\n",
      "  24h Change: -14.35%\n"
     ]
    }
   ],
   "source": [
    "print(\"\\nFetching Tickers for Popular Coins...\")\n",
    "tickers = session_public.get_tickers(\n",
    "    category=\"spot\",\n",
    "    symbol=\"BTCUSDT\"\n",
    ")\n",
    "\n",
    "if 'result' in tickers and 'list' in tickers['result']:\n",
    "    print(\"\\n24h Price Statistics:\")\n",
    "    for ticker in tickers['result']['list']:\n",
    "        symbol = ticker['symbol']\n",
    "        last_price = float(ticker['lastPrice'])\n",
    "        high_price = float(ticker['highPrice24h'])\n",
    "        low_price = float(ticker['lowPrice24h'])\n",
    "        volume = float(ticker['volume24h'])\n",
    "        price_change_percent = float(ticker['price24hPcnt']) * 100\n",
    "        \n",
    "        print(f\"\\n{symbol}:\")\n",
    "        print(f\"  Last Price: ${last_price:.2f}\")\n",
    "        print(f\"  24h High: ${high_price:.2f}\")\n",
    "        print(f\"  24h Low: ${low_price:.2f}\")\n",
    "        print(f\"  24h Volume: {volume:.2f} USDT\")\n",
    "        print(f\"  24h Change: {price_change_percent:.2f}%\")"
   ]
  }
 ],
 "metadata": {
  "kernelspec": {
   "display_name": "pybit",
   "language": "python",
   "name": "python3"
  },
  "language_info": {
   "codemirror_mode": {
    "name": "ipython",
    "version": 3
   },
   "file_extension": ".py",
   "mimetype": "text/x-python",
   "name": "python",
   "nbconvert_exporter": "python",
   "pygments_lexer": "ipython3",
   "version": "3.10.16"
  }
 },
 "nbformat": 4,
 "nbformat_minor": 2
}
